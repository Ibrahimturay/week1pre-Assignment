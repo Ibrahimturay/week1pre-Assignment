{
 "cells": [
  {
   "cell_type": "code",
   "execution_count": 1,
   "metadata": {},
   "outputs": [],
   "source": [
    "import numpy as np"
   ]
  },
  {
   "cell_type": "code",
   "execution_count": 2,
   "metadata": {},
   "outputs": [],
   "source": [
    "# SVM from scratch \n",
    "class  ScratchSVMClassifier():\n",
    "    def __init__(self, num_iter, lr, kernel= 'linear' , threshold = 1e-5 , verbose = False):\n",
    "        self.iter = num_iter\n",
    "        self.lr = lr\n",
    "        self.verbose = verbose\n",
    "        self.kernel = kernel\n",
    "        self.val_loss = np.zeros(self.iter)\n",
    "        self.threshold = threshold\n",
    "    \n",
    "    def _kernel(self,X1,X2):\n",
    "        if self.kernel == 'linear':\n",
    "            return np.dot(X1,X2.T)\n",
    "        else:\n",
    "            # polynomial kernel\n",
    "            return (1*np.dot(X1,X2.T)+1)**2\n",
    "    \n",
    "    def fit(self, X, y, X_val=None, y_val=None): \n",
    "        \n",
    "        # creating lamda from random data\n",
    "        self.w = np.random.rand(len(X))\n",
    "\n",
    "        # Lagrange descent\n",
    "        for i in range(self.iter):\n",
    "            \n",
    "            # updating lamda on each iteration\n",
    "            for i in range(len(X)):\n",
    "                counter = 0\n",
    "                for idx in range(len(X)):\n",
    "                    counter += self.w[idx]*y[i]*y[idx]*self._kernel(X[i],X[idx])\n",
    "\n",
    "                self.w[i] += self.lr*(1-counter)\n",
    "\n",
    "                if self.w[i] < 0:\n",
    "                    self.w[i] = 0\n",
    "            \n",
    "            # getting the support vectors\n",
    "            self.X_sv = X[self.w > self.threshold]\n",
    "            self.y_sv = y[self.w > self.threshold]\n",
    "            self.w_sv = self.w[self.w > self.threshold]\n",
    "                    \n",
    "    def predict(self, X):\n",
    "        y_pred = np.random.rand(len(X))\n",
    "        \n",
    "        # predicting using the support vectors\n",
    "        for i in range(len(X)):\n",
    "            counter_sv = 0\n",
    "            for sv in range(len(self.X_sv)):\n",
    "                counter_sv += self.w_sv[sv]*self.y_sv[sv]*self._kernel(X[i],self.X_sv[sv])\n",
    "            if counter_sv >= 0:\n",
    "                y_pred[i] = 1\n",
    "            else:\n",
    "                y_pred[i] = 0\n",
    "        return y_pred"
   ]
  },
  {
   "cell_type": "code",
   "execution_count": 3,
   "metadata": {},
   "outputs": [],
   "source": [
    "# importing datasets\n",
    "from sklearn import datasets\n",
    "\n",
    "X, y =  datasets.make_blobs(n_samples=50, n_features=2, centers=2, cluster_std=1.05, random_state=40)\n",
    "y = np.where(y == 0, -1, 1)"
   ]
  },
  {
   "cell_type": "code",
   "execution_count": 4,
   "metadata": {},
   "outputs": [],
   "source": [
    "# splitting the data into learning and estimation\n",
    "from sklearn.model_selection import train_test_split\n",
    "\n",
    "X_train, X_test, y_train, y_test = train_test_split(X, y,test_size=0.2)"
   ]
  },
  {
   "cell_type": "code",
   "execution_count": 5,
   "metadata": {},
   "outputs": [
    {
     "data": {
      "text/plain": [
       "array([1., 1., 0., 1., 0., 1., 1., 0., 0., 0.])"
      ]
     },
     "execution_count": 5,
     "metadata": {},
     "output_type": "execute_result"
    }
   ],
   "source": [
    "svm = ScratchSVMClassifier(num_iter=1000, lr=0.01, verbose=False)\n",
    "svm.fit(X_train, y_train)\n",
    "y_pred = svm.predict(X_test)\n",
    "y_pred"
   ]
  },
  {
   "cell_type": "code",
   "execution_count": 12,
   "metadata": {},
   "outputs": [],
   "source": [
    "# load iris dataset\n",
    "from sklearn.datasets import load_iris\n",
    "from sklearn.preprocessing import StandardScaler\n",
    "iris = load_iris()\n",
    "X1 = iris.data[50:,:]\n",
    "y1 = iris.target[50:]\n",
    "\n",
    "X1 = X1[:,[2,3]]\n",
    "y1[y1==2] = -1"
   ]
  },
  {
   "cell_type": "code",
   "execution_count": 14,
   "metadata": {},
   "outputs": [],
   "source": [
    "X1_train, X1_test, y1_train, y1_test = train_test_split(X1, y1,test_size=0.3, random_state=0)\n",
    "\n",
    "scaler = StandardScaler()\n",
    "scaler.fit(X1_train)\n",
    "X_train1 = scaler.transform(X1_train)\n",
    "X_test1 = scaler.transform(X1_test)"
   ]
  },
  {
   "cell_type": "code",
   "execution_count": 18,
   "metadata": {},
   "outputs": [
    {
     "data": {
      "text/plain": [
       "array([0., 1., 0., 1., 1., 1., 0., 1., 1., 1., 1., 1., 1., 0., 0., 0., 0.,\n",
       "       0., 1., 0., 0., 1., 0., 1., 0., 0., 0., 1., 1., 0.])"
      ]
     },
     "execution_count": 18,
     "metadata": {},
     "output_type": "execute_result"
    }
   ],
   "source": [
    "svm1 = ScratchSVMClassifier(num_iter=10000, lr=0.01, threshold=0.038)\n",
    "svm1.fit(X_train1, y1_train)\n",
    "y_pred1 = svm.predict(X_test1)\n",
    "y_pred1"
   ]
  },
  {
   "cell_type": "markdown",
   "metadata": {},
   "source": [
    "【problem 4】Learning and estimation"
   ]
  },
  {
   "cell_type": "code",
   "execution_count": 6,
   "metadata": {},
   "outputs": [
    {
     "name": "stdout",
     "output_type": "stream",
     "text": [
      "accuracy 0.5\n",
      "precision 0.5\n",
      "recall 0.5\n",
      "f1 0.5\n"
     ]
    },
    {
     "name": "stderr",
     "output_type": "stream",
     "text": [
      "C:\\ProgramData\\Anaconda3\\lib\\site-packages\\sklearn\\metrics\\_classification.py:1221: UndefinedMetricWarning: Precision is ill-defined and being set to 0.0 in labels with no predicted samples. Use `zero_division` parameter to control this behavior.\n",
      "  _warn_prf(average, modifier, msg_start, len(result))\n",
      "C:\\ProgramData\\Anaconda3\\lib\\site-packages\\sklearn\\metrics\\_classification.py:1221: UndefinedMetricWarning: Recall is ill-defined and being set to 0.0 in labels with no true samples. Use `zero_division` parameter to control this behavior.\n",
      "  _warn_prf(average, modifier, msg_start, len(result))\n"
     ]
    }
   ],
   "source": [
    "from sklearn.metrics import accuracy_score\n",
    "from sklearn.metrics import precision_score\n",
    "from sklearn.metrics import recall_score\n",
    "from sklearn.metrics import f1_score\n",
    "\n",
    "accuracy = accuracy_score(y_test, y_pred)\n",
    "precision = precision_score(y_test, y_pred, average='weighted')\n",
    "recall = recall_score(y_test, y_pred, average='weighted')\n",
    "f1 = f1_score(y_test, y_pred, average='weighted')\n",
    "\n",
    "print('accuracy',accuracy)\n",
    "print('precision',precision)\n",
    "print('recall',recall)\n",
    "print('f1',f1)"
   ]
  },
  {
   "cell_type": "code",
   "execution_count": 19,
   "metadata": {},
   "outputs": [
    {
     "name": "stdout",
     "output_type": "stream",
     "text": [
      "accuracy 0.03333333333333333\n",
      "precision 0.03333333333333333\n",
      "recall 0.03333333333333333\n",
      "f1 0.03333333333333333\n"
     ]
    }
   ],
   "source": [
    "accuracy = accuracy_score(y1_test, y_pred1)\n",
    "precision = precision_score(y1_test, y_pred1, average='weighted')\n",
    "recall = recall_score(y1_test, y_pred1, average='weighted')\n",
    "f1 = f1_score(y1_test, y_pred1, average='weighted')\n",
    "\n",
    "print('accuracy',accuracy)\n",
    "print('precision',precision)\n",
    "print('recall',recall)\n",
    "print('f1',f1)"
   ]
  },
  {
   "cell_type": "markdown",
   "metadata": {},
   "source": [
    "【problem5】Visualization of decision area"
   ]
  },
  {
   "cell_type": "code",
   "execution_count": 7,
   "metadata": {},
   "outputs": [
    {
     "data": {
      "image/png": "[encoded data removed]",
      "text/plain": [
       "<Figure size 432x288 with 1 Axes>"
      ]
     },
     "metadata": {
      "needs_background": "light"
     },
     "output_type": "display_data"
    }
   ],
   "source": [
    "import matplotlib.pyplot as plt\n",
    "from matplotlib.colors import ListedColormap\n",
    "import matplotlib.patches as mpatches\n",
    "\n",
    "def decision_region(X, y, model, step=0.01, title='decision region', xlabel='xlabel', ylabel='ylabel', target_names=['versicolor', 'virginica']):\n",
    "    # setting\n",
    "    scatter_color = ['red', 'blue']\n",
    "    contourf_color = ['pink', 'skyblue']\n",
    "    n_class = 2\n",
    "    \n",
    "    # pred\n",
    "    mesh_f0, mesh_f1  = np.meshgrid(np.arange(np.min(X[:,0])-0.5, np.max(X[:,0])+0.5, step), np.arange(np.min(X[:,1])-0.5, np.max(X[:,1])+0.5, step))\n",
    "    mesh = np.c_[np.ravel(mesh_f0),np.ravel(mesh_f1)]\n",
    "    y_pred = model.predict(mesh).reshape(mesh_f0.shape)\n",
    "    \n",
    "    # plot\n",
    "    plt.title(title)\n",
    "    plt.xlabel(xlabel)\n",
    "    plt.ylabel(ylabel)\n",
    "    plt.contourf(mesh_f0, mesh_f1, y_pred, n_class-1, cmap=ListedColormap(contourf_color))\n",
    "    plt.contour(mesh_f0, mesh_f1, y_pred, n_class-1, colors='y', linewidths=3, alpha=0.5)\n",
    "    for i, target in enumerate(set(y)):\n",
    "        plt.scatter(X[y==target][:, 0], X[y==target][:, 1], s=80, color=scatter_color[i], label=target_names[i], marker='o')\n",
    "    patches = [mpatches.Patch(color = scatter_color[i], label = target_names[i]) for i in range(n_class)]\n",
    "    \n",
    "    # displaying the support vectors\n",
    "    plt.scatter(model.X_sv[:,0], model.X_sv[:,1], color='yellow', s=80, label='support vector')\n",
    "    plt.legend(handles=patches)\n",
    "    plt.legend()\n",
    "    plt.show()\n",
    "\n",
    "decision_region(X_train, y_train, svm, title = 'Train', target_names = ['0', ' 1'])"
   ]
  },
  {
   "cell_type": "markdown",
   "metadata": {},
   "source": [
    "【problem 6】(Advance task) Creation of polynomial kernel function"
   ]
  },
  {
   "cell_type": "code",
   "execution_count": 8,
   "metadata": {},
   "outputs": [],
   "source": [
    "def _kernel(self,X1,X2):\n",
    "    return (1*np.dot(X1,X2.T)+1)**2"
   ]
  },
  {
   "cell_type": "code",
   "execution_count": null,
   "metadata": {},
   "outputs": [],
   "source": []
  }
 ],
 "metadata": {
  "kernelspec": {
   "display_name": "Python 3",
   "language": "python",
   "name": "python3"
  },
  "language_info": {
   "codemirror_mode": {
    "name": "ipython",
    "version": 3
   },
   "file_extension": ".py",
   "mimetype": "text/x-python",
   "name": "python",
   "nbconvert_exporter": "python",
   "pygments_lexer": "ipython3",
   "version": "3.8.5"
  }
 },
 "nbformat": 4,
 "nbformat_minor": 4
}
