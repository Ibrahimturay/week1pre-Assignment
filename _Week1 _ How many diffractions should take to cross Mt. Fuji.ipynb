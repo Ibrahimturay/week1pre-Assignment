{
 "cells": [
  {
   "cell_type": "markdown",
   "metadata": {
    "id": "u_evrVowyigl"
   },
   "source": [
    "# [Problem 1] Minimum number of folds over Mt. Fuji"
   ]
  },
  {
   "cell_type": "code",
   "execution_count": 45,
   "metadata": {
    "colab": {
     "base_uri": "https://localhost:8080/"
    },
    "executionInfo": {
     "elapsed": 945,
     "status": "ok",
     "timestamp": 1611145963509,
     "user": {
      "displayName": "Alhaji Fortune",
      "photoUrl": "https://lh3.googleusercontent.com/a-/AOh14GiRAlZlGyDc_Zt44Np56ATuWZ8e4dV8jJpSTrPmcDQ=s64",
      "userId": "01218923895066088452"
     },
     "user_tz": 0
    },
    "id": "UbMzH4vKyMVv",
    "outputId": "0bef60b9-facd-4824-bc58-ec9f8af385e5"
   },
   "outputs": [
    {
     "name": "stdout",
     "output_type": "stream",
     "text": [
      "Number of times of folds if exceeds Mt. Fuji is = 26\n"
     ]
    }
   ],
   "source": [
    "Thick0=0.00008\n",
    "distance=3776\n",
    "\n",
    "for n in range(1,44):\n",
    "    thick=Thick0*2**n\n",
    "    if(thick>=distance):\n",
    "        break\n",
    "print(\"Number of times of folds if exceeds Mt. Fuji is = {}\".format(n))"
   ]
  },
  {
   "cell_type": "markdown",
   "metadata": {
    "id": "mW7UONTz5YWp"
   },
   "source": [
    "# [Problem 2] Creating a function corresponding to an arbitrary thickness"
   ]
  },
  {
   "cell_type": "code",
   "execution_count": 55,
   "metadata": {
    "colab": {
     "base_uri": "https://localhost:8080/",
     "height": 35
    },
    "executionInfo": {
     "elapsed": 1061,
     "status": "ok",
     "timestamp": 1611146951847,
     "user": {
      "displayName": "Alhaji Fortune",
      "photoUrl": "https://lh3.googleusercontent.com/a-/AOh14GiRAlZlGyDc_Zt44Np56ATuWZ8e4dV8jJpSTrPmcDQ=s64",
      "userId": "01218923895066088452"
     },
     "user_tz": 0
    },
    "id": "dROU868jyqNN",
    "outputId": "a5fc4cb8-967a-4728-ef22-80c911da97f2"
   },
   "outputs": [
    {
     "data": {
      "application/vnd.google.colaboratory.intrinsic+json": {
       "type": "string"
      },
      "text/plain": [
       "'The number of times a paper 20000m thick bends is : 28'"
      ]
     },
     "execution_count": 55,
     "metadata": {
      "tags": []
     },
     "output_type": "execute_result"
    }
   ],
   "source": [
    "import math\n",
    "\n",
    "def arbitrary_thickness(distance):\n",
    "    thickness = 0.00008\n",
    "    \n",
    "    num_of_bends = math.log2(distance/thickness)\n",
    "    \n",
    "    return f'The number of times a paper {distance}m thick bends is : {round(num_of_bends)}'\n",
    "    \n",
    "arbitrary_thickness(20000)"
   ]
  },
  {
   "cell_type": "code",
   "execution_count": 52,
   "metadata": {
    "colab": {
     "base_uri": "https://localhost:8080/",
     "height": 35
    },
    "executionInfo": {
     "elapsed": 1240,
     "status": "ok",
     "timestamp": 1611146814220,
     "user": {
      "displayName": "Alhaji Fortune",
      "photoUrl": "https://lh3.googleusercontent.com/a-/AOh14GiRAlZlGyDc_Zt44Np56ATuWZ8e4dV8jJpSTrPmcDQ=s64",
      "userId": "01218923895066088452"
     },
     "user_tz": 0
    },
    "id": "SWNe495uvaL6",
    "outputId": "3b96baf9-8c6e-4fd3-cac4-08d3a39d8939"
   },
   "outputs": [
    {
     "data": {
      "application/vnd.google.colaboratory.intrinsic+json": {
       "type": "string"
      },
      "text/plain": [
       "'The number of times a paper 40208000000000m thick bends is : 59'"
      ]
     },
     "execution_count": 52,
     "metadata": {
      "tags": []
     },
     "output_type": "execute_result"
    }
   ],
   "source": [
    "#Number of times to fold a paper to reach the nearest neighboring star, Proxima centauri\n",
    "thickness(40208000000000)"
   ]
  },
  {
   "cell_type": "markdown",
   "metadata": {
    "id": "CoPvVQam6JQe"
   },
   "source": [
    "# [Problem 3] Required paper length"
   ]
  },
  {
   "cell_type": "code",
   "execution_count": 57,
   "metadata": {
    "colab": {
     "base_uri": "https://localhost:8080/",
     "height": 35
    },
    "executionInfo": {
     "elapsed": 1230,
     "status": "ok",
     "timestamp": 1611147004348,
     "user": {
      "displayName": "Alhaji Fortune",
      "photoUrl": "https://lh3.googleusercontent.com/a-/AOh14GiRAlZlGyDc_Zt44Np56ATuWZ8e4dV8jJpSTrPmcDQ=s64",
      "userId": "01218923895066088452"
     },
     "user_tz": 0
    },
    "id": "7jmSSMqwlhqB",
    "outputId": "64323c21-b69a-4393-a7c4-129f24e3e8ee"
   },
   "outputs": [
    {
     "data": {
      "application/vnd.google.colaboratory.intrinsic+json": {
       "type": "string"
      },
      "text/plain": [
       "'The length of the paper necessary to reach a thickness of 100m is: 65450004m'"
      ]
     },
     "execution_count": 57,
     "metadata": {
      "tags": []
     },
     "output_type": "execute_result"
    }
   ],
   "source": [
    "def paper_length(distance):\n",
    "    thickness = 0.00008\n",
    "    \n",
    "    num_of_bends = math.log2(distance/thickness)\n",
    "    \n",
    "    length = (thickness*math.pi/6)*(2**num_of_bends + 4)*(2**num_of_bends - 1)\n",
    "    \n",
    "    return f'The length of the paper necessary to reach a thickness of {distance}m is: {round(length)}m'\n",
    "paper_length(100)"
   ]
  },
  {
   "cell_type": "code",
   "execution_count": 58,
   "metadata": {
    "colab": {
     "base_uri": "https://localhost:8080/",
     "height": 35
    },
    "executionInfo": {
     "elapsed": 1078,
     "status": "ok",
     "timestamp": 1611147219568,
     "user": {
      "displayName": "Alhaji Fortune",
      "photoUrl": "https://lh3.googleusercontent.com/a-/AOh14GiRAlZlGyDc_Zt44Np56ATuWZ8e4dV8jJpSTrPmcDQ=s64",
      "userId": "01218923895066088452"
     },
     "user_tz": 0
    },
    "id": "M6Wjh2jDxn2u",
    "outputId": "bcfcc653-c192-4cd9-ae24-80dbf51137cc"
   },
   "outputs": [
    {
     "data": {
      "application/vnd.google.colaboratory.intrinsic+json": {
       "type": "string"
      },
      "text/plain": [
       "'The length of the paper necessary to reach a thickness of 384400m is: 967108930282445m'"
      ]
     },
     "execution_count": 58,
     "metadata": {
      "tags": []
     },
     "output_type": "execute_result"
    }
   ],
   "source": [
    "#length of paper needed to reach the Moon\n",
    "paper_length(384400)"
   ]
  },
  {
   "cell_type": "code",
   "execution_count": 59,
   "metadata": {
    "colab": {
     "base_uri": "https://localhost:8080/",
     "height": 35
    },
    "executionInfo": {
     "elapsed": 992,
     "status": "ok",
     "timestamp": 1611147389585,
     "user": {
      "displayName": "Alhaji Fortune",
      "photoUrl": "https://lh3.googleusercontent.com/a-/AOh14GiRAlZlGyDc_Zt44Np56ATuWZ8e4dV8jJpSTrPmcDQ=s64",
      "userId": "01218923895066088452"
     },
     "user_tz": 0
    },
    "id": "e4qUA4i4xtLN",
    "outputId": "4e777b57-31fb-4026-b940-3f770ad5dba7"
   },
   "outputs": [
    {
     "data": {
      "application/vnd.google.colaboratory.intrinsic+json": {
       "type": "string"
      },
      "text/plain": [
       "'The length of the paper necessary to reach a thickness of 14235000m is: 1326244446310933760m'"
      ]
     },
     "execution_count": 59,
     "metadata": {
      "tags": []
     },
     "output_type": "execute_result"
    }
   ],
   "source": [
    "#length of paper needed to reach Mt. Fuji from Sierra Leone\n",
    "paper_length(14235000)"
   ]
  },
  {
   "cell_type": "code",
   "execution_count": 60,
   "metadata": {
    "colab": {
     "base_uri": "https://localhost:8080/",
     "height": 35
    },
    "executionInfo": {
     "elapsed": 1096,
     "status": "ok",
     "timestamp": 1611147539554,
     "user": {
      "displayName": "Alhaji Fortune",
      "photoUrl": "https://lh3.googleusercontent.com/a-/AOh14GiRAlZlGyDc_Zt44Np56ATuWZ8e4dV8jJpSTrPmcDQ=s64",
      "userId": "01218923895066088452"
     },
     "user_tz": 0
    },
    "id": "MAljoTGwxxvh",
    "outputId": "d162fe42-f044-4f09-da1e-bd7290a7a389"
   },
   "outputs": [
    {
     "data": {
      "application/vnd.google.colaboratory.intrinsic+json": {
       "type": "string"
      },
      "text/plain": [
       "'The length of the paper necessary to reach a thickness of 41320000000000000000m is: 11174529877088318617763684719386290288590848m'"
      ]
     },
     "execution_count": 60,
     "metadata": {
      "tags": []
     },
     "output_type": "execute_result"
    }
   ],
   "source": [
    "#length of paper needed to reach Alpha Centauri, closest star to the sun\n",
    "paper_length(41320000000000000000)"
   ]
  }
 ],
 "metadata": {
  "colab": {
   "authorship_tag": "ABX9TyMLkx586jkp1YcQQB9Rvkwo",
   "collapsed_sections": [],
   "name": "Week1 _ How many diffractions should take to cross Mt. Fuji.ipynb",
   "provenance": []
  },
  "kernelspec": {
   "display_name": "Python 3",
   "language": "python",
   "name": "python3"
  },
  "language_info": {
   "codemirror_mode": {
    "name": "ipython",
    "version": 3
   },
   "file_extension": ".py",
   "mimetype": "text/x-python",
   "name": "python",
   "nbconvert_exporter": "python",
   "pygments_lexer": "ipython3",
   "version": "3.8.5"
  }
 },
 "nbformat": 4,
 "nbformat_minor": 1
}
