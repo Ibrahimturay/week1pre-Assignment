{
 "cells": [
  {
   "cell_type": "markdown",
   "metadata": {
    "id": "yUaBhmrA-Mzo"
   },
   "source": [
    "# [Problem] The day when chestnut buns cover the solar system"
   ]
  },
  {
   "cell_type": "code",
   "execution_count": 1,
   "metadata": {
    "colab": {
     "base_uri": "https://localhost:8080/"
    },
    "executionInfo": {
     "elapsed": 1340,
     "status": "ok",
     "timestamp": 1611134578015,
     "user": {
      "displayName": "Alhaji Fortune",
      "photoUrl": "https://lh3.googleusercontent.com/a-/AOh14GiRAlZlGyDc_Zt44Np56ATuWZ8e4dV8jJpSTrPmcDQ=s64",
      "userId": "01218923895066088452"
     },
     "user_tz": 0
    },
    "id": "bdL6cGsfwxsT",
    "outputId": "8e17ddc4-d752-4130-9fb0-26e841272c14"
   },
   "outputs": [
    {
     "name": "stdout",
     "output_type": "stream",
     "text": [
      "Time it takes to cover the solar system: 56 Minutes\n"
     ]
    }
   ],
   "source": [
    "#Assuming the size of the sola system is 100,000 AU\n",
    "\n",
    "def solar_system(object_size):\n",
    "\n",
    "    #size of the sola system in meter cube\n",
    "    solar_size=100000\n",
    "\n",
    "    time=0\n",
    "    while True:\n",
    "        if object_size>=solar_size:\n",
    "            break\n",
    "        else:\n",
    "            object_size*=2\n",
    "            time+=7\n",
    "    return print(\"Time it takes to cover the solar system: {} Minutes\".format(time))\n",
    "\n",
    "solar_system(450)"
   ]
  },
  {
   "cell_type": "code",
   "execution_count": 2,
   "metadata": {
    "colab": {
     "base_uri": "https://localhost:8080/",
     "height": 312
    },
    "executionInfo": {
     "elapsed": 1094,
     "status": "ok",
     "timestamp": 1611134970095,
     "user": {
      "displayName": "Alhaji Fortune",
      "photoUrl": "https://lh3.googleusercontent.com/a-/AOh14GiRAlZlGyDc_Zt44Np56ATuWZ8e4dV8jJpSTrPmcDQ=s64",
      "userId": "01218923895066088452"
     },
     "user_tz": 0
    },
    "id": "7QxGD68YGfd5",
    "outputId": "3a4b21a6-8fc0-48b1-c717-7c135ba20dda"
   },
   "outputs": [
    {
     "name": "stdout",
     "output_type": "stream",
     "text": [
      "49 Minutes\n"
     ]
    },
    {
     "data": {
      "image/png": "[encoded data removed]",
      "text/plain": [
       "<Figure size 432x288 with 1 Axes>"
      ]
     },
     "metadata": {
      "needs_background": "light"
     },
     "output_type": "display_data"
    }
   ],
   "source": [
    "def Tokyo_Dome(object_size):\n",
    "    size_tokyo_dome=1240000 #Size of the Tokyo Dome in Cubic meters\n",
    "    time=0\n",
    "    minutes=[]\n",
    "    size=[]\n",
    "    while True:\n",
    "        if object_size>=size_tokyo_dome:\n",
    "            break\n",
    "        else:\n",
    "            object_size*=2\n",
    "            time+=7\n",
    "            minutes.append(time)\n",
    "            size.append(object_size)\n",
    "    \n",
    "    import matplotlib.pyplot as plt\n",
    "    \n",
    "    plt.plot(minutes, size, 'r-o', linewidth=5, markersize=10, markeredgewidth=5, markeredgecolor='orange')\n",
    "    plt.xlabel('TIME IN MINUTES'); plt.ylabel('SIZE OF THE OBJECT');\n",
    "    plt.title(\"Relating to Tokyo Dome Situation\")\n",
    "    \n",
    "    return print(\"{} Minutes\".format(time))\n",
    "Tokyo_Dome(10000)"
   ]
  },
  {
   "cell_type": "code",
   "execution_count": null,
   "metadata": {},
   "outputs": [],
   "source": []
  }
 ],
 "metadata": {
  "colab": {
   "authorship_tag": "ABX9TyNTAkRPmPOIqxw9mm3BLQCO",
   "collapsed_sections": [],
   "name": "Week1 _ Kuri manju problem.ipynb",
   "provenance": []
  },
  "kernelspec": {
   "display_name": "Python 3",
   "language": "python",
   "name": "python3"
  },
  "language_info": {
   "codemirror_mode": {
    "name": "ipython",
    "version": 3
   },
   "file_extension": ".py",
   "mimetype": "text/x-python",
   "name": "python",
   "nbconvert_exporter": "python",
   "pygments_lexer": "ipython3",
   "version": "3.8.5"
  }
 },
 "nbformat": 4,
 "nbformat_minor": 1
}
