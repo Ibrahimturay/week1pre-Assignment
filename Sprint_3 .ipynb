{
 "cells": [
  {
   "cell_type": "markdown",
   "metadata": {},
   "source": [
    "【problem1】Hypothetical function"
   ]
  },
  {
   "cell_type": "code",
   "execution_count": 1,
   "metadata": {},
   "outputs": [],
   "source": [
    "def _linear_hypothesis(self, X):\n",
    "    return np.dot(X, self.theta.T)"
   ]
  },
  {
   "cell_type": "markdown",
   "metadata": {},
   "source": [
    "【problem2】Steepest descent"
   ]
  },
  {
   "cell_type": "code",
   "execution_count": 2,
   "metadata": {},
   "outputs": [],
   "source": [
    "def _gradient_descent(self, X, y):\n",
    "    h = np.dot(X, self.theta) - y\n",
    "    dw = np.dot( X.T, (h-y) ) / len(y)\n",
    "    self.theta = self.theta - self.lr*dW\n",
    "    return self.theta"
   ]
  },
  {
   "cell_type": "markdown",
   "metadata": {},
   "source": [
    "【problem 3】Estimated"
   ]
  },
  {
   "cell_type": "code",
   "execution_count": 3,
   "metadata": {},
   "outputs": [],
   "source": [
    "def predict(self, X):\n",
    "        y_approximated = self._linear_hypothesis(X)\n",
    "        return y_approximated"
   ]
  },
  {
   "cell_type": "markdown",
   "metadata": {},
   "source": [
    "【problem 4】Mean squared error"
   ]
  },
  {
   "cell_type": "code",
   "execution_count": 4,
   "metadata": {},
   "outputs": [],
   "source": [
    "def MSE(y_pred, y):\n",
    "    mse = np.square(y_pred - y).mean()\n",
    "    return mse"
   ]
  },
  {
   "cell_type": "markdown",
   "metadata": {},
   "source": [
    "【problem 5】Objective function"
   ]
  },
  {
   "cell_type": "code",
   "execution_count": 5,
   "metadata": {},
   "outputs": [],
   "source": [
    "def _objective_function(self,y_pred,y):\n",
    "        loss = np.square(y_pred-y)\n",
    "        cost = np.sum(loss)/(2*len(y))\n",
    "        return cost"
   ]
  },
  {
   "cell_type": "markdown",
   "metadata": {},
   "source": [
    "#### Putting it all together"
   ]
  },
  {
   "cell_type": "code",
   "execution_count": 6,
   "metadata": {},
   "outputs": [],
   "source": [
    "import numpy as np\n",
    "\n",
    "class ScratchLinearRegression():\n",
    "    \n",
    "    def __init__(self, num_iter, lr, no_bias, verbose):\n",
    "        # Record hyperparameters as attributes\n",
    "        self.iter = num_iter\n",
    "        self.lr = lr\n",
    "        self.no_bias = no_bias\n",
    "        self.theta = None\n",
    "        self.verbose = verbose\n",
    "       \n",
    "        # Prepare an array to record the loss\n",
    "        self.loss = np.zeros(self.iter)\n",
    "        self.val_loss = np.zeros(self.iter)\n",
    "        \n",
    "    def fit(self, X, y, X_val=None, y_val=None):\n",
    "        if self.no_bias:\n",
    "            self.theta = np.random.rand(len(X[0]))\n",
    "        else:\n",
    "            bias = np.ones(len(X)).reshape(-1, 1)\n",
    "            X = np.concatenate((bias, X), axis=1)\n",
    "            self.theta = np.random.rand(len(X[0]))\n",
    "    \n",
    "         \n",
    "        for i in range(self.iter):\n",
    "            y_pred = self._linear_hypothesis(X)\n",
    "            y_pred_val = self.predict(X_val)\n",
    "            \n",
    "            self.theta = self._gradient_descent(X, y)\n",
    "            \n",
    "            self.loss[i] = self._objective_function(y_pred, y)\n",
    "            self.val_loss[i] = self._objective_function(y_pred_val, y_val)\n",
    "            \n",
    "    def _linear_hypothesis(self, X):\n",
    "        return np.dot(X, self.theta.T)\n",
    "        \n",
    "    def _gradient_descent(self, X, y):\n",
    "        error = self._linear_hypothesis(X) - y\n",
    "        self.theta -= (self.lr/len(X)) * np.matmul(error, X)\n",
    "        return self.theta\n",
    "    \n",
    "    \n",
    "    def _objective_function(self,y_pred,y):\n",
    "        loss = np.sum((y_pred - y)**2)/(2*len(y))\n",
    "        return loss\n",
    "\n",
    "    def predict(self, X):\n",
    "        if self.no_bias:\n",
    "            pass\n",
    "        else:\n",
    "            bias = np.ones(len(X)).reshape(-1, 1)\n",
    "            X = np.concatenate((bias, X), axis=1)\n",
    "        y_approximated = self._linear_hypothesis(X)\n",
    "        return y_approximated"
   ]
  },
  {
   "cell_type": "markdown",
   "metadata": {},
   "source": [
    "【Problem 6】Learning and estimation"
   ]
  },
  {
   "cell_type": "code",
   "execution_count": 7,
   "metadata": {},
   "outputs": [],
   "source": [
    "import pandas as pd\n",
    "data = pd.read_csv(\"train.csv\")\n",
    "X1 = data.loc[:, [\"GrLivArea\", \"YearBuilt\"]]\n",
    "y1 = data.loc[:, 'SalePrice']\n",
    "\n",
    "X = X1.to_numpy()\n",
    "y = y1.to_numpy()\n"
   ]
  },
  {
   "cell_type": "code",
   "execution_count": 8,
   "metadata": {},
   "outputs": [],
   "source": [
    "import numpy as np\n",
    "np.random.seed(42)\n",
    "from sklearn.model_selection import train_test_split\n",
    "\n",
    "X_train, X_val, y_train, y_val = train_test_split(X, y, test_size=0.2, random_state=42)"
   ]
  },
  {
   "cell_type": "code",
   "execution_count": 9,
   "metadata": {},
   "outputs": [
    {
     "data": {
      "text/plain": [
       "((1168, 2), (1168,))"
      ]
     },
     "execution_count": 9,
     "metadata": {},
     "output_type": "execute_result"
    }
   ],
   "source": [
    "X_train.shape, y_train.shape"
   ]
  },
  {
   "cell_type": "code",
   "execution_count": 10,
   "metadata": {},
   "outputs": [],
   "source": [
    "from sklearn.preprocessing import StandardScaler\n",
    "scaler = StandardScaler()\n",
    "scaler.fit(X_train)\n",
    "\n",
    "X_train = scaler.transform(X_train)\n",
    "X_Val = scaler.transform(X_val)"
   ]
  },
  {
   "cell_type": "code",
   "execution_count": 11,
   "metadata": {},
   "outputs": [
    {
     "name": "stdout",
     "output_type": "stream",
     "text": [
      "Scratch Linear Regression MSE: 2.23e+14\n"
     ]
    }
   ],
   "source": [
    "model = ScratchLinearRegression(num_iter=1000, lr=0.0001, no_bias=False, verbose=True)\n",
    "model.fit(X_train, y_train, X_val, y_val)\n",
    "y_pred = model.predict(X_val)\n",
    "\n",
    "print('Scratch Linear Regression MSE: {:.3g}'.format(MSE(y_val, y_pred)))"
   ]
  },
  {
   "cell_type": "markdown",
   "metadata": {},
   "source": [
    "### comparing with linear regression model from sklearn"
   ]
  },
  {
   "cell_type": "code",
   "execution_count": 12,
   "metadata": {},
   "outputs": [],
   "source": [
    "from sklearn.linear_model import LinearRegression\n",
    "from sklearn.metrics import mean_squared_error\n",
    "lr = LinearRegression()\n",
    "lr.fit(X_train, y_train)\n",
    "y_pred_lr = lr.predict(X_val)"
   ]
  },
  {
   "cell_type": "code",
   "execution_count": 13,
   "metadata": {},
   "outputs": [
    {
     "name": "stdout",
     "output_type": "stream",
     "text": [
      "Sklearn Linear Regressor MSE: 1.84e+16\n"
     ]
    }
   ],
   "source": [
    "print('Sklearn Linear Regressor MSE: {:.3g}'.format(mean_squared_error(y_val, y_pred_lr)))"
   ]
  },
  {
   "cell_type": "code",
   "execution_count": 14,
   "metadata": {},
   "outputs": [
    {
     "name": "stdout",
     "output_type": "stream",
     "text": [
      "Train Score: 0.6466337010342488\n",
      "Test Score:  -2401917.5367002785\n"
     ]
    }
   ],
   "source": [
    "train_score = lr.score(X_train,y_train)\n",
    "test_score = lr.score(X_val,y_val)\n",
    "\n",
    "print(\"Train Score:\", train_score)\n",
    "print(\"Test Score: \",test_score)"
   ]
  },
  {
   "cell_type": "markdown",
   "metadata": {},
   "source": [
    "[Problem 7] Learning curve plot"
   ]
  },
  {
   "cell_type": "code",
   "execution_count": 15,
   "metadata": {
    "collapsed": true
   },
   "outputs": [
    {
     "data": {
      "text/plain": [
       "[]"
      ]
     },
     "execution_count": 15,
     "metadata": {},
     "output_type": "execute_result"
    },
    {
     "data": {
      "image/png": "[encoded data removed]",
      "text/plain": [
       "<Figure size 432x288 with 1 Axes>"
      ]
     },
     "metadata": {
      "needs_background": "light"
     },
     "output_type": "display_data"
    }
   ],
   "source": [
    "import matplotlib.pyplot as plt\n",
    "%matplotlib inline\n",
    "\n",
    "plt.figure\n",
    "\n",
    "plt.rcParams[\"font.size\"] = 15\n",
    "plt.plot(np.arange(len(model.loss)), model.loss, label='Train loss')\n",
    "plt.plot(np.arange(len(model.val_loss)), model.val_loss, label='Val loss')\n",
    "\n",
    "plt.title('Sctatch Model loss')\n",
    "plt.xlabel('iteration')\n",
    "plt.ylabel('Loss')\n",
    "plt.legend()\n",
    "plt.plot()"
   ]
  },
  {
   "cell_type": "markdown",
   "metadata": {},
   "source": [
    "【problem 8】(Advance task) Removal of bias term"
   ]
  },
  {
   "cell_type": "code",
   "execution_count": 16,
   "metadata": {},
   "outputs": [
    {
     "name": "stdout",
     "output_type": "stream",
     "text": [
      "Scratch LinearRegression MSE: 2.23e+14\n"
     ]
    }
   ],
   "source": [
    "model_nobias = ScratchLinearRegression(num_iter=1000, lr=0.0001, no_bias=True, verbose=True)\n",
    "model_nobias.fit(X_train, y_train, X_val, y_val)\n",
    "y_pred_nb = model_nobias.predict(X_val)\n",
    "\n",
    "print('Scratch LinearRegression MSE: {:.3g}'.format(MSE(y_val, y_pred_nb)))"
   ]
  },
  {
   "cell_type": "code",
   "execution_count": 17,
   "metadata": {
    "collapsed": true
   },
   "outputs": [
    {
     "data": {
      "text/plain": [
       "[]"
      ]
     },
     "execution_count": 17,
     "metadata": {},
     "output_type": "execute_result"
    },
    {
     "data": {
      "image/png": "[encoded data removed]",
      "text/plain": [
       "<Figure size 432x288 with 1 Axes>"
      ]
     },
     "metadata": {
      "needs_background": "light"
     },
     "output_type": "display_data"
    }
   ],
   "source": [
    "plt.figure\n",
    "\n",
    "plt.rcParams[\"font.size\"] = 15\n",
    "plt.plot(np.arange(len(model_nobias.loss)), model_nobias.loss, label='Train loss')\n",
    "plt.plot(np.arange(len(model_nobias.val_loss)), model_nobias.val_loss, label='Val loss')\n",
    "\n",
    "plt.title('Sctatch Model loss Without bias')\n",
    "plt.xlabel('iteration')\n",
    "plt.ylabel('Loss')\n",
    "plt.legend()\n",
    "plt.plot()"
   ]
  },
  {
   "cell_type": "markdown",
   "metadata": {},
   "source": [
    "The presence of the bias reduces the mean square error of the model as compared to the case with bias. "
   ]
  },
  {
   "cell_type": "markdown",
   "metadata": {},
   "source": [
    "【problem 9】(Advance task) Multidimensional feature quantity"
   ]
  },
  {
   "cell_type": "code",
   "execution_count": 18,
   "metadata": {},
   "outputs": [],
   "source": [
    "np.random.seed(0)\n",
    "X_2 = X**2\n",
    "X_3 = X**3\n",
    "\n",
    "X_train2, X_val2, y_train2, y_val2 = train_test_split(X_2, y, test_size=0.2)\n",
    "X_train3, X_val3, y_train3, y_val3 = train_test_split(X_3, y, test_size=0.2)\n",
    "\n",
    "scaler.fit(X_train2)\n",
    "X_train2 = scaler.transform(X_train2)\n",
    "Xval2 = scaler.transform(X_val2)\n",
    "\n",
    "\n",
    "scaler.fit(X_train3)\n",
    "X_train3 = scaler.transform(X_train3)\n",
    "Xval3 = scaler.transform(X_val3)\n",
    "\n"
   ]
  },
  {
   "cell_type": "code",
   "execution_count": 19,
   "metadata": {},
   "outputs": [
    {
     "name": "stdout",
     "output_type": "stream",
     "text": [
      "Scratch Linear Regression MSE: 1.49e+18\n"
     ]
    }
   ],
   "source": [
    "model2 = ScratchLinearRegression(num_iter=1000, lr=0.0001, no_bias=False, verbose=True)\n",
    "model2.fit(X_train2, y_train, X_val2, y_val)\n",
    "y_pred2 = model2.predict(X_val2)\n",
    "\n",
    "print('Scratch Linear Regression MSE: {:.3g}'.format(MSE(y_val, y_pred2)))"
   ]
  },
  {
   "cell_type": "code",
   "execution_count": 20,
   "metadata": {},
   "outputs": [
    {
     "name": "stdout",
     "output_type": "stream",
     "text": [
      "Scratch Linear Regression MSE: 1.27e+24\n"
     ]
    }
   ],
   "source": [
    "model3 = ScratchLinearRegression(num_iter=1000, lr=0.0001, no_bias=False, verbose=True)\n",
    "model3.fit(X_train3, y_train, X_val3, y_val)\n",
    "y_pred3 = model3.predict(X_val3)\n",
    "\n",
    "print('Scratch Linear Regression MSE: {:.3g}'.format(MSE(y_val, y_pred3)))"
   ]
  },
  {
   "cell_type": "code",
   "execution_count": 21,
   "metadata": {},
   "outputs": [
    {
     "data": {
      "text/plain": [
       "[]"
      ]
     },
     "execution_count": 21,
     "metadata": {},
     "output_type": "execute_result"
    },
    {
     "data": {
      "image/png": "[encoded data removed]",
      "text/plain": [
       "<Figure size 432x288 with 1 Axes>"
      ]
     },
     "metadata": {
      "needs_background": "light"
     },
     "output_type": "display_data"
    }
   ],
   "source": [
    "plt.figure\n",
    "\n",
    "plt.rcParams[\"font.size\"] = 15\n",
    "plt.plot(np.arange(len(model.loss)), model.loss, label='Train loss Original')\n",
    "plt.plot(np.arange(len(model2.loss)), model2.loss, label='Train loss Square')\n",
    "plt.plot(np.arange(len(model3.loss)), model3.loss, label='Train loss cube')\n",
    "\n",
    "\n",
    "plt.title('Sctatch Model loss')\n",
    "plt.xlabel('iteration')\n",
    "plt.ylabel('Loss')\n",
    "plt.legend()\n",
    "plt.plot()"
   ]
  },
  {
   "cell_type": "markdown",
   "metadata": {},
   "source": [
    "### **[Problem 10] (Advance task) Derivation of update formula**\n",
    "\n",
    "**The equation is derived by** J(θ)=1/2mΣ(θx-y)^2 = 1/2mΣ((xθ)^2 -2yxθ +y^2)\n",
    "\n",
    "**We then devide the derivatives** ΔJ(θ)/Δθ  **and**\n",
    "\n",
    "**Then** = 1/2mΣ(2x^2θ -2yx) = 1/mΣ x(xθ -y)"
   ]
  },
  {
   "cell_type": "code",
   "execution_count": null,
   "metadata": {},
   "outputs": [],
   "source": []
  }
 ],
 "metadata": {
  "kernelspec": {
   "display_name": "Python 3",
   "language": "python",
   "name": "python3"
  },
  "language_info": {
   "codemirror_mode": {
    "name": "ipython",
    "version": 3
   },
   "file_extension": ".py",
   "mimetype": "text/x-python",
   "name": "python",
   "nbconvert_exporter": "python",
   "pygments_lexer": "ipython3",
   "version": "3.8.5"
  }
 },
 "nbformat": 4,
 "nbformat_minor": 4
}
